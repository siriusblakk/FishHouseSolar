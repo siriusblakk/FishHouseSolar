{
 "cells": [
  {
   "cell_type": "markdown",
   "source": [
    "# Fish House Battery Charging System\n",
    "by Gunnar Maples\n",
    "October 13, 2023\n",
    "\n",
    "NOTE: I AM NOT LICENSED TO DO THIS. THIS IS A PERSONAL PROJECT.\n",
    "\n",
    "Problem: Dad needs a way to keep the fish house's 12V car battery charged so he can start the stove, turn on the lights, and charge a phone. His battery is a 110 Amp-hour, 12VDC battery. \n",
    "\n",
    "I want the battery to be charged in 12 hours by sun or be plugged into the power of the machine shed (shore power). When the battery is charged, I want the battery to be protected from over charging. I also want my dad to be able to quantify how charged the battery is. If he can see the change in charge due to a day of wind/sun, he can build confidence with leaving the battery at low charge.\n",
    "\n",
    "Problem Specifications:\n",
    "* Charge Time = 12 hours\n",
    "* Battery Energy 90 Amp-hour (this is assumed, not measured)\n",
    "* Battery Output Voltage: 12 VDC\n",
    "\n",
    "-----------------------\n",
    "\n",
    "## Solar Charging System\n",
    "\n",
    "Overall, there are two approaches to charging a battery with solar panels.\n",
    "1. Trickle\n",
    "2. Solar Charge Controller\n",
    "\n",
    "Trickle charging uses a small panel to \"maintain\" a battery's charge. This method does not generate much current to charge the battery and this leads to poor battery life expectancy.\n",
    "\n",
    "A solar charge controller goes between the solar panels and the battery to be charged. As a smart device, it monitors the state of the battery and controls the power going to the battery as a function of ambient conditions, battery health, ect. This device also connects through bluetooth to communicate charging/battery performance. \n",
    "\n",
    "As this is a first pass at solar panels, we will be using a solar charge controller. The information from the controller will be used as feedback on the design.\n",
    "\n",
    "Now for the panels! There are a few things to keep in mind when sizing the panels: \n",
    "1. You should size your battery and therefore charging system based on what you **use**. We are doing this a bit backwards as we are looking at the battery we have, but that's okay.\n",
    "2. I want this to charge in 12 hours...so in one day of sun. But due to weather, angle of the sun in the sky, and location on  Earth, the rule of thumb for average time of daylight is 5 hours. As we are farther north, I am assuming 3 hours. \n",
    "3. Solar Panels, Controllers, Batteries...these are imperfect devices. We won't get 100% efficient solar panels. We won't have a perfect charge. So in the following calculations, I will deduct the penalty of reality with estimated/rule-of-thumb efficiencies.\n",
    "\n",
    "Power of Solar Required to Charge 1/4 of Battery (due to Dad's request):\n",
    "Energy = 90 Amp-hour * 12 Volts * 1/4 Charge= 270 Watt-hour"
   ],
   "metadata": {
    "collapsed": false
   },
   "id": "9a51a29adb1ab102"
  },
  {
   "cell_type": "code",
   "execution_count": 6,
   "outputs": [
    {
     "data": {
      "text/plain": "270.0"
     },
     "execution_count": 6,
     "metadata": {},
     "output_type": "execute_result"
    }
   ],
   "source": [
    "90*12*0.25"
   ],
   "metadata": {
    "collapsed": false,
    "ExecuteTime": {
     "end_time": "2023-11-14T00:30:38.779299900Z",
     "start_time": "2023-11-14T00:30:38.650589700Z"
    }
   },
   "id": "438d78fc172ffe73"
  },
  {
   "cell_type": "markdown",
   "source": [
    "Theoretical Panel Power = Energy / Time = 270 Watt-Hrs / 3 hours = 90 Watts"
   ],
   "metadata": {
    "collapsed": false
   },
   "id": "b75c3b2e95569f9c"
  },
  {
   "cell_type": "code",
   "execution_count": 7,
   "outputs": [
    {
     "data": {
      "text/plain": "90.0"
     },
     "execution_count": 7,
     "metadata": {},
     "output_type": "execute_result"
    }
   ],
   "source": [
    "270/3"
   ],
   "metadata": {
    "collapsed": false,
    "ExecuteTime": {
     "end_time": "2023-11-14T00:30:38.780359700Z",
     "start_time": "2023-11-14T00:30:38.656574300Z"
    }
   },
   "id": "93697e2ce27e52c8"
  },
  {
   "cell_type": "markdown",
   "source": [
    "Great! Now we have a 90 Watt Theoretical Solar Panel Wattage. Now, these panels are not perfect. If a panel says 100W, it really only gives 80W. So, let's assume a 80% efficiency. \n",
    "\n",
    "Now, the real wattage is:\n",
    "Panel Power = Theoretical Panel Power / 0.8 = 440 / 0.8 = 113 Watts"
   ],
   "metadata": {
    "collapsed": false
   },
   "id": "634fd1357f45ae8e"
  },
  {
   "cell_type": "code",
   "execution_count": 8,
   "outputs": [
    {
     "data": {
      "text/plain": "550.0"
     },
     "execution_count": 8,
     "metadata": {},
     "output_type": "execute_result"
    }
   ],
   "source": [
    "440/0.8"
   ],
   "metadata": {
    "collapsed": false,
    "ExecuteTime": {
     "end_time": "2023-11-14T00:30:38.818270200Z",
     "start_time": "2023-11-14T00:30:38.665220600Z"
    }
   },
   "id": "41b606ab072dbc45"
  },
  {
   "cell_type": "markdown",
   "source": [
    "Here are panels that would work:\n",
    "[Solar Panels](https://www.newpowa.com/pro-100w-12v-monocrystalline-solar-panel/)\n",
    "Rated as 12V, 5A panels at 100W. \n",
    "\n",
    "Mounting brackets sold [here](https://www.newpowa.com/universal-flat-mount-z-bracket-set-uz-version-/)\n",
    "\n",
    "<div>\n",
    "<img src=\"SolarPanels.jpg\" width=\"500\"/>\n",
    "</div>\n",
    "\n",
    "\n",
    "<div>\n",
    "<img src=\"MountingBracket.png\" width=\"500\"/>\n",
    "</div>"
   ],
   "metadata": {
    "collapsed": false
   },
   "id": "25c56aa5e1ce51c7"
  },
  {
   "cell_type": "markdown",
   "source": [
    "#### Solar Charge Controller\n",
    "We need something between the battery and the solar panel to ensure it charges correctly. This device is a Solar Charge Controller. A value-add of the controller is it has three terminals: \n",
    "1. Solar Panel\n",
    "2. Battery\n",
    "3. Load \n",
    "\n",
    "This way, the controller decides how much power to send where and simplifies this whole system.\n",
    "\n",
    "To size the controller, we need to take a few steps:\n",
    "\n",
    "1. Ensure the input voltage of the controller does not exceed its rating\n",
    "2. Make sure the operating voltage of the panels exceeds the minimum start and operating voltage requirement of the charge controller\n",
    "3. Make sure the Open Circuit and Short Circuit Voltages do not exceed the controllers\n",
    "\n",
    "Using Victron's calculated (a colleague recommended Victron), the system suggests a 75/10 Conroller.\n",
    " \n",
    "<div>\n",
    "<img src=\"ChargeControllerCalc.jpg\" width=\"1100\"/>\n",
    "</div>\n",
    "\n",
    "The panels maximum of 24.3VDC will not exceed the controller rating of 75VDC. The minimum start voltage of the controller is 13VDC, so the panels will have to overcome this to start charging. This is a risk but one we are willing to take. The open/short circuit ratings of the panel (24VDC, 5A) will not endanger the controller's limits (75VDC, 13A). \n",
    "\n",
    "[Link](https://www.amazon.com/Victron-SmartSolar-MPPT-Controller-Bluetooth/dp/B075NPQHQK?th=1) to controller"
   ],
   "metadata": {
    "collapsed": false
   },
   "id": "480a01d86352b58b"
  },
  {
   "cell_type": "markdown",
   "source": [
    "#### Wiring Diagram\n",
    "\n",
    "The final product needs the ability to charge the battery through the controller from the power source and operate safely. Advice from a team member was taken to use the charge controller as the method of charging the battery with the solar panels and the shore charger. By converting to DC power below the rating of the controller, the controller should provide the battery with the required control. This is not a mainstream way of charging a battery and so there is risk here. \n",
    "\n",
    "The logic behind sending power through the controller and not bypassing it is that the controller is designed to charge the battery. It will reduce power to the battery as the battery is charged and this is a value-adding feature. \n",
    "\n",
    "Switches will be used to isolate power sources and send solar or shore power to the controller. Fuses are used throughout the lines to defend against over-current. Max input current to the controller is 13A, max output current is 10A, so 20A fuses are used throughout the system.\n",
    "\n",
    "<div>\n",
    "<img src=\"2023-11-03_ElectricalWiringSystem_v3.jpg\" width=\"1200\"/>\n",
    "</div>\n",
    "\n"
   ],
   "metadata": {
    "collapsed": false
   },
   "id": "77e733c7f9a15cd6"
  },
  {
   "cell_type": "markdown",
   "source": [
    "Other Details:\n",
    "* 9-12 AWG Wire was chosen due to the current estimates of 15A max and assuming a maximum wire length of 10ft.\n",
    "<div>\n",
    "<img src=\"CircuitCurrentRating.jpg\" width=\"1000\"/>\n",
    "</div>\n",
    "\n",
    "* A fuse box will be used for connecting the LEDs and other loads to the power. This way, more devices can be easily added in the future.\n",
    "* This electrical system will be housed in an electrical box to defend against splashes and flopping fish.\n",
    "\n",
    "More details coming soon!"
   ],
   "metadata": {
    "collapsed": false
   },
   "id": "95ef667aff55d63d"
  }
 ],
 "metadata": {
  "kernelspec": {
   "display_name": "Python 3",
   "language": "python",
   "name": "python3"
  },
  "language_info": {
   "codemirror_mode": {
    "name": "ipython",
    "version": 2
   },
   "file_extension": ".py",
   "mimetype": "text/x-python",
   "name": "python",
   "nbconvert_exporter": "python",
   "pygments_lexer": "ipython2",
   "version": "2.7.6"
  }
 },
 "nbformat": 4,
 "nbformat_minor": 5
}
